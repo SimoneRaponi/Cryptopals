{
 "cells": [
  {
   "cell_type": "code",
   "execution_count": 25,
   "metadata": {},
   "outputs": [],
   "source": [
    "import base64\n",
    "import string\n",
    "\n",
    "class CryptoSet1:\n",
    "    \n",
    "    letter_value = {\n",
    "                'e': 12.702, 't': 9.056, 'o': 7.507, 'a': 8.167, 'i': 6.966,\n",
    "                'n': 6.749, 's': 6.327, 'h': 6.094, 'r': 5.987, 'd': 4.253,\n",
    "                'l': 4.025, 'c': 2.782, 'u': 2.758, 'm': 2.406, 'w': 2.360,\n",
    "                'f': 2.228, 'g': 2.015, 'y': 1.974, 'p': 1.929, 'b': 1.492,\n",
    "                'v': 0.978, 'k': 0.772, 'j': 0.153, 'x': 0.150, 'q': 0.095,\n",
    "                'z':0.074, ' ': 15.000\n",
    "             }\n",
    "    \n",
    "    # Convert hex to base64\n",
    "    def toBase64(hex_string):\n",
    "        return base64.b64encode(bytearray.fromhex(hex_string)).decode('utf-8')\n",
    "    \n",
    "    # Write a function that takes two equal-length buffers and produces their XOR combination.\n",
    "    \n",
    "    def xor(x, y):\n",
    "        if len(x) == len(y):\n",
    "            x = bytearray.fromhex(x)\n",
    "            y = bytearray.fromhex(y)\n",
    "            return bytes(a ^ b for (a, b) in zip(x, y)).hex()\n",
    "        print(\"The strings have different lengths\")\n",
    "        \n",
    "    def xor_with_char(x, c):\n",
    "        x = bytearray.fromhex(x)\n",
    "        for i in range(len(x)):\n",
    "            x[i] ^= ord(c)\n",
    "        return x.decode('utf-8', 'backslashreplace')\n",
    "    \n",
    "    def scorer(self, s):\n",
    "        score = 0\n",
    "        for letter, value in self.letter_value.items():\n",
    "            score += value*s.count(letter)\n",
    "        return score\n",
    "    \n",
    "    def repeating_xor_encryption(self, s, key):\n",
    "        enc = ''.join(hex(ord(c)) for c in s)\n",
    "        print(enc)\n",
    "        for char in key:\n",
    "            print(char)\n",
    "            enc = self.xor_with_char(enc, char)\n",
    "        \n",
    "    def repeating_key_xor(s, key):\n",
    "        enc = b''\n",
    "        i = 0\n",
    "\n",
    "        for char in s:\n",
    "            enc += bytes([ord(char) ^ ord(key[i])])\n",
    "            \n",
    "            if i < len(key) - 1:\n",
    "                i += 1\n",
    "            else:\n",
    "                i = 0\n",
    "                \n",
    "        return enc"
   ]
  },
  {
   "cell_type": "code",
   "execution_count": 26,
   "metadata": {},
   "outputs": [
    {
     "name": "stdout",
     "output_type": "stream",
     "text": [
      "SSdtIGtpbGxpbmcgeW91ciBicmFpbiBsaWtlIGEgcG9pc29ub3VzIG11c2hyb29t\n"
     ]
    }
   ],
   "source": [
    "# Challenge 1\n",
    "\n",
    "s = \"49276d206b696c6c696e6720796f757220627261696e206c696b65206120706f69736f6e6f7573206d757368726f6f6d\"\n",
    "print(CryptoSet1.toBase64(s))"
   ]
  },
  {
   "cell_type": "code",
   "execution_count": 27,
   "metadata": {},
   "outputs": [
    {
     "name": "stdout",
     "output_type": "stream",
     "text": [
      "746865206b696420646f6e277420706c6179\n"
     ]
    }
   ],
   "source": [
    "# Challenge 2\n",
    "\n",
    "s1 = \"1c0111001f010100061a024b53535009181c\"\n",
    "s2 = \"686974207468652062756c6c277320657965\"\n",
    "\n",
    "print(CryptoSet1.xor(s1, s2))"
   ]
  },
  {
   "cell_type": "code",
   "execution_count": 28,
   "metadata": {},
   "outputs": [
    {
     "name": "stdout",
     "output_type": "stream",
     "text": [
      "X\n",
      "Cooking MC's like a pound of bacon\n",
      "220.103\n"
     ]
    }
   ],
   "source": [
    "# Challenge 3\n",
    "\n",
    "crypto = CryptoSet1()\n",
    "\n",
    "max_score = 0\n",
    "key = None\n",
    "target_string = None\n",
    "\n",
    "for letter in string.ascii_letters:\n",
    "    decryption = (CryptoSet1.xor_with_char(\"1b37373331363f78151b7f2b783431333d78397828372d363c78373e783a393b3736\", letter))\n",
    "    if crypto.scorer(decryption) > max_score:\n",
    "        max_score = crypto.scorer(decryption)\n",
    "        key = letter\n",
    "        target_string = decryption\n",
    "        \n",
    "print(key)\n",
    "print(target_string)\n",
    "print(max_score)"
   ]
  },
  {
   "cell_type": "code",
   "execution_count": 29,
   "metadata": {},
   "outputs": [
    {
     "name": "stdout",
     "output_type": "stream",
     "text": [
      "5\n",
      "Now that the party is jumping\n",
      "\n",
      "208.474\n"
     ]
    }
   ],
   "source": [
    "# Challenge 4\n",
    "\n",
    "max_score = 0\n",
    "key = None\n",
    "target_string = None\n",
    "\n",
    "with open(\"4.txt\", 'r') as f:\n",
    "    for hex_string in f.readlines():\n",
    "        for letter in string.printable:\n",
    "            decryption = (CryptoSet1.xor_with_char(hex_string.strip(), letter))\n",
    "            if crypto.scorer(decryption) > max_score:\n",
    "                max_score = crypto.scorer(decryption)\n",
    "                key = letter\n",
    "                target_string = decryption\n",
    "\n",
    "print(key)\n",
    "print(target_string)\n",
    "print(max_score)"
   ]
  },
  {
   "cell_type": "code",
   "execution_count": 30,
   "metadata": {},
   "outputs": [
    {
     "name": "stdout",
     "output_type": "stream",
     "text": [
      "0b3637272a2b2e63622c2e69692a23693a2a3c6324202d623d63343c2a26226324272765272a282b2f20430a652e2c652a3124333a653e2b2027630c692b20283165286326302e27282f\n"
     ]
    }
   ],
   "source": [
    "# Challenge 5\n",
    "\n",
    "import binascii\n",
    "\n",
    "s = \"Burning 'em, if you ain't quick and nimble\\nI go crazy when I hear a cymbal\"\n",
    "key = 'ICE'\n",
    "\n",
    "print(str(binascii.hexlify(CryptoSet1.repeating_key_xor(s, \"ICE\")), \"utf-8\"))"
   ]
  }
 ],
 "metadata": {
  "kernelspec": {
   "display_name": "Python 3",
   "language": "python",
   "name": "python3"
  },
  "language_info": {
   "codemirror_mode": {
    "name": "ipython",
    "version": 3
   },
   "file_extension": ".py",
   "mimetype": "text/x-python",
   "name": "python",
   "nbconvert_exporter": "python",
   "pygments_lexer": "ipython3",
   "version": "3.8.2"
  }
 },
 "nbformat": 4,
 "nbformat_minor": 4
}
